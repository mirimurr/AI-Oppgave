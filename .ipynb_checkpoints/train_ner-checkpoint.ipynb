{
 "cells": [
  {
   "cell_type": "code",
   "execution_count": 12,
   "id": "third-connecticut",
   "metadata": {},
   "outputs": [],
   "source": [
    "from __future__ import unicode_literals, print_function\n",
    "import spacy\n",
    "import plac\n",
    "from spacy.util import minibatch, compounding\n",
    "import random\n",
    "import pickle\n",
    "from pathlib import Path"
   ]
  },
  {
   "cell_type": "code",
   "execution_count": 2,
   "id": "cleared-silver",
   "metadata": {},
   "outputs": [],
   "source": [
    "training_data = []\n",
    "file = open('training_data.jsonl', 'r', encoding='utf-8')\n",
    "for line in file.readlines():\n",
    "    line = line.rstrip('\\n \",')\n",
    "    line = eval(line) \n",
    "    training_data.append(line)"
   ]
  },
  {
   "cell_type": "code",
   "execution_count": null,
   "id": "broke-narrative",
   "metadata": {
    "scrolled": true
   },
   "outputs": [
    {
     "name": "stdout",
     "output_type": "stream",
     "text": [
      "Loaded model '<spacy.lang.nb.Norwegian object at 0x7f158096bcd0>'\n",
      "Losses {'ner': 24.472079396247864}\n",
      "Losses {'ner': 55.39086908753961}\n",
      "Losses {'ner': 103.5340828364715}\n",
      "Losses {'ner': 149.43045134004205}\n",
      "Losses {'ner': 176.65409040730447}\n",
      "Losses {'ner': 215.9205257995054}\n",
      "Losses {'ner': 268.76973361801356}\n",
      "Losses {'ner': 284.7039377344772}\n",
      "Losses {'ner': 334.30885882209986}\n",
      "Losses {'ner': 361.60800785850734}\n",
      "Losses {'ner': 425.452626417391}\n",
      "Losses {'ner': 461.1489940388128}\n",
      "Losses {'ner': 497.2811976177618}\n",
      "Losses {'ner': 563.5551417460665}\n",
      "Losses {'ner': 602.6747049978003}\n",
      "Losses {'ner': 648.1823961408809}\n",
      "Losses {'ner': 689.7539968164638}\n",
      "Losses {'ner': 770.1262776525691}\n",
      "Losses {'ner': 804.367519822903}\n",
      "Losses {'ner': 858.2939818771556}\n",
      "Losses {'ner': 900.5229421528056}\n",
      "Losses {'ner': 932.5550514133647}\n",
      "Losses {'ner': 988.6659807236865}\n",
      "Losses {'ner': 1028.0276248725131}\n",
      "Losses {'ner': 1047.4826885135844}\n",
      "Losses {'ner': 1083.5144708724692}\n",
      "Losses {'ner': 1098.4076835485175}\n",
      "Losses {'ner': 1144.2673688502982}\n",
      "Losses {'ner': 1194.881698009558}\n",
      "Losses {'ner': 1229.347834465094}\n",
      "Losses {'ner': 1252.1276667797938}\n",
      "Losses {'ner': 1348.0986285293475}\n",
      "Losses {'ner': 1429.2048695096746}\n",
      "Losses {'ner': 1473.6993122110143}\n",
      "Losses {'ner': 1524.27730536554}\n",
      "Losses {'ner': 1563.311157346703}\n",
      "Losses {'ner': 1612.737502307631}\n",
      "Losses {'ner': 1652.2242049882188}\n",
      "Losses {'ner': 1707.3616763660684}\n",
      "Losses {'ner': 1754.158022196032}\n",
      "Losses {'ner': 1808.9244797537103}\n",
      "Losses {'ner': 1820.4910722980276}\n",
      "Losses {'ner': 1855.474542141892}\n",
      "Losses {'ner': 1928.9979624757543}\n",
      "Losses {'ner': 1992.1900720605627}\n",
      "Losses {'ner': 2016.8203319320455}\n",
      "Losses {'ner': 2060.216867090203}\n",
      "Losses {'ner': 2093.951677707024}\n",
      "Losses {'ner': 2145.0602368386462}\n",
      "Losses {'ner': 2191.431185510941}\n",
      "Losses {'ner': 2222.4212525160983}\n",
      "Losses {'ner': 2256.594958034344}\n",
      "Losses {'ner': 2333.6461249263957}\n"
     ]
    }
   ],
   "source": [
    "#!/usr/bin/env python\n",
    "# coding: utf8\n",
    "\n",
    "new_label = 'POLITICAL PARTY'\n",
    "\n",
    "\n",
    "output_dir=('/home/miriam/Projects/Arkivverket/AI-Oppgave/')\n",
    "n_iter=(100)\n",
    "\n",
    "new_model_name = 'nb_core_news_sm_added_new_ner'\n",
    "model = spacy.load('nb_core_news_sm')  # load existing spacy model\n",
    "print(\"Loaded model '%s'\" % model)\n",
    "if 'ner' not in nlp.pipe_names:\n",
    "    ner = nlp.create_pipe('ner')\n",
    "    nlp.add_pipe(ner)\n",
    "else:\n",
    "    ner = nlp.get_pipe('ner')\n",
    "\n",
    "ner.add_label(new_label)   # Add new entity labels to entity recognizer\n",
    "optimizer = nlp.entity.create_optimizer()\n",
    "other_pipes = [pipe for pipe in nlp.pipe_names if pipe != 'ner']\n",
    "\n",
    "with nlp.disable_pipes(*other_pipes):  # only train NER\n",
    "    for itn in range(n_iter):\n",
    "        random.shuffle(training_data)\n",
    "        losses = {}\n",
    "        batches = minibatch(training_data, size=compounding(4., 32., 1.001))\n",
    "        for batch in batches:\n",
    "            texts, annotations = zip(*batch)\n",
    "            nlp.update(texts, annotations, sgd=optimizer, drop=0.25, losses=losses)\n",
    "            print('Losses', losses)\n",
    "\n",
    "    # Test the trained model\n",
    "    test_text = 'Senterpartiet får en oppslutning på 22,1 prosent, opp 2,3 prosentpoeng fra november. '\n",
    "    test_text2 = 'De politiske partiene som er representert på Stortinget i perioden 2017-2021, er Arbeiderpartiet, Fremskrittspartiet, Høyre, Senterpartiet, Kristelig Folkeparti, Sosialistisk Venstreparti, Venstre, Miljøpartiet De Grønne og Rødt.'\n",
    "\n",
    "    doc = nlp(test_text)\n",
    "    print(\"Entities in '%s'\" % test_text)\n",
    "    for ent in doc.ents:\n",
    "        print(ent.label_, ent.text)\n",
    "\n",
    "    # Save model \n",
    "    if output_dir is not None:\n",
    "        output_dir = Path(output_dir)\n",
    "        if not output_dir.exists():\n",
    "            output_dir.mkdir()\n",
    "        nlp.meta['name'] = new_model_name  # rename model\n",
    "        nlp.to_disk(output_dir)\n",
    "        print(\"Saved model to\", output_dir)\n",
    "\n",
    "        # Test the saved model\n",
    "        print(\"Loading from\", output_dir)\n",
    "        nlp2 = spacy.load(output_dir)\n",
    "        doc2 = nlp2(test_text2)\n",
    "        for ent in doc2.ents:\n",
    "            print(ent.label_, ent.text)"
   ]
  },
  {
   "cell_type": "code",
   "execution_count": null,
   "id": "optimum-shock",
   "metadata": {},
   "outputs": [],
   "source": []
  },
  {
   "cell_type": "code",
   "execution_count": 38,
   "id": "working-vienna",
   "metadata": {},
   "outputs": [
    {
     "data": {
      "text/html": [
       "<span class=\"tex2jax_ignore\"><div class=\"entities\" style=\"line-height: 2.5; direction: ltr\">De politiske partiene som er representert på Stortinget i perioden 2017-2021, er Arbeiderpartiet, Fremskrittspartiet, Høyre, Senterpartiet, Kristelig Folkeparti, Sosialistisk Venstreparti, Venstre, Miljøpartiet De Grønne og Rødt.</div></span>"
      ],
      "text/plain": [
       "<IPython.core.display.HTML object>"
      ]
     },
     "metadata": {},
     "output_type": "display_data"
    }
   ],
   "source": [
    "from spacy import displacy\n",
    "text = 'De politiske partiene som er representert på Stortinget i perioden 2017-2021, er Arbeiderpartiet, Fremskrittspartiet, Høyre, Senterpartiet, Kristelig Folkeparti, Sosialistisk Venstreparti, Venstre, Miljøpartiet De Grønne og Rødt.'\n",
    "nlp2 = spacy.load(output_dir)\n",
    "doc2 = nlp2(text)\n",
    "for ent in doc2.ents:\n",
    "    print(ent.label_, ent.text)\n",
    "spacy.displacy.render(doc2, style='ent')\n"
   ]
  },
  {
   "cell_type": "code",
   "execution_count": null,
   "id": "limiting-renaissance",
   "metadata": {},
   "outputs": [],
   "source": []
  }
 ],
 "metadata": {
  "kernelspec": {
   "display_name": "Python 3",
   "language": "python",
   "name": "python3"
  },
  "language_info": {
   "codemirror_mode": {
    "name": "ipython",
    "version": 3
   },
   "file_extension": ".py",
   "mimetype": "text/x-python",
   "name": "python",
   "nbconvert_exporter": "python",
   "pygments_lexer": "ipython3",
   "version": "3.8.5"
  }
 },
 "nbformat": 4,
 "nbformat_minor": 5
}
