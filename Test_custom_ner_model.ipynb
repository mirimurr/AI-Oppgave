{
 "cells": [
  {
   "cell_type": "code",
   "execution_count": 2,
   "id": "representative-meditation",
   "metadata": {},
   "outputs": [],
   "source": [
    "#import requirements\n",
    "import spacy\n",
    "from spacy import displacy"
   ]
  },
  {
   "cell_type": "code",
   "execution_count": 3,
   "id": "desperate-cricket",
   "metadata": {},
   "outputs": [],
   "source": [
    "test_text2 = ['Når vi går til valg gir vi stemmen vår til et politisk parti.', \n",
    "'Alle partier har et mål om et best mulig samfunn, men de er ofte uenige om hvilken vei som er den beste til målet.', \n",
    "'Norge har et flerpartisystem, og i stortingsvalget i 2017 ble ni partier valgt inn på Stortinget.', \n",
    "'Det er et høyt antall sammenliknet med de fleste andre parlamenter.', \n",
    "'Det største partiet har 49 seter, mens de to minste bare har ett hver.', \n",
    "'Ofte sorterer vi de politiske partiene langs en akse med en «venstreside», en «høyreside» og et «sentrum».', \n",
    "'Denne aksen er en sterk forenkling av virkeligheten, og mange saker går på tvers av aksen.',  \n",
    "'Vi kan se på økonomisk politikk for å illustrere forskjellene mellom partiene på venstresiden og høyresiden.',  \n",
    "'Partiene på venstresiden ønsker ofte et relativt høyt nivå på skatter og avgifter.',  \n",
    "'Til gjengjeld skal staten sørge for velferdsgoder som sykehus, utdanning og kulturtilbud.',  \n",
    "'De ønsker å utjevne økonomiske forskjeller mellom grupper i samfunnet, og er villige til å skattlegge dem med høyest inntekt mer for å oppnå dette.',  \n",
    "'Av de ni partiene på Stortinget, plasserer vi gjerne Rødt (R), Sosialistisk Venstreparti (SV) og Arbeiderpartiet (A) på venstresiden.',  \n",
    "'Partiene på høyresiden ønsker lavere skatter, og mener at private bedrifter kan levere mange av velferdstjenestene på en mer effektiv måte enn staten.',  \n",
    "'De snakker mindre om sosial utjevning, og er i større grad villige til å akseptere økonomiske forskjeller mellom grupper i samfunnet.',  \n",
    "'Av de ni partiene på Stortinget, plasserer vi gjerne Høyre (H) og Fremskrittspartiet (FrP) på høyresiden.',  \n",
    "'I det politiske sentrum, mellom høyre- og venstreblokkene, plasserer vi som regel Kristelig Folkeparti (KrF), Venstre (V) og Senterpartiet (Sp).',  \n",
    "'Miljøpartiet de grønne (MDG) kaller seg «blokkuavhengig», og ønsker ikke å bli plassert i noen av «blokkene».',  \n",
    "'Det er viktig å huske at plasseringen av partier på aksen er en sterk forenkling, og at det finnes mange saker hvor partier i ulike blokker er enige med hverandre.',  \n",
    "'I sine partiprogrammer for perioden 2013–2017 hadde for eksempel syv av periodens åtte stortingspartier skrevet at de ønsket å innføre mer fysisk aktivitet i skolen.']\n"
   ]
  },
  {
   "cell_type": "code",
   "execution_count": 5,
   "id": "dependent-intellectual",
   "metadata": {},
   "outputs": [
    {
     "data": {
      "text/html": [
       "<span class=\"tex2jax_ignore\"><div class=\"entities\" style=\"line-height: 2.5; direction: ltr\">\n",
       "<mark class=\"entity\" style=\"background: #7aecec; padding: 0.45em 0.6em; margin: 0 0.25em; line-height: 1; border-radius: 0.35em;\">\n",
       "    Norge\n",
       "    <span style=\"font-size: 0.8em; font-weight: bold; line-height: 1; border-radius: 0.35em; text-transform: uppercase; vertical-align: middle; margin-left: 0.5rem\">ORG</span>\n",
       "</mark>\n",
       " har et flerpartisystem, og i stortingsvalget i 2017 ble ni partier valgt inn på Stortinget.</div></span>"
      ],
      "text/plain": [
       "<IPython.core.display.HTML object>"
      ]
     },
     "metadata": {},
     "output_type": "display_data"
    },
    {
     "data": {
      "text/html": [
       "<span class=\"tex2jax_ignore\"><div class=\"entities\" style=\"line-height: 2.5; direction: ltr\">Av de ni partiene på \n",
       "<mark class=\"entity\" style=\"background: #7aecec; padding: 0.45em 0.6em; margin: 0 0.25em; line-height: 1; border-radius: 0.35em;\">\n",
       "    Stortinget\n",
       "    <span style=\"font-size: 0.8em; font-weight: bold; line-height: 1; border-radius: 0.35em; text-transform: uppercase; vertical-align: middle; margin-left: 0.5rem\">ORG</span>\n",
       "</mark>\n",
       ", plasserer vi gjerne Rødt (R), Sosialistisk Venstreparti (SV) og Arbeiderpartiet (A) på venstresiden.</div></span>"
      ],
      "text/plain": [
       "<IPython.core.display.HTML object>"
      ]
     },
     "metadata": {},
     "output_type": "display_data"
    },
    {
     "data": {
      "text/html": [
       "<span class=\"tex2jax_ignore\"><div class=\"entities\" style=\"line-height: 2.5; direction: ltr\">Av de ni partiene på \n",
       "<mark class=\"entity\" style=\"background: #7aecec; padding: 0.45em 0.6em; margin: 0 0.25em; line-height: 1; border-radius: 0.35em;\">\n",
       "    Stortinget\n",
       "    <span style=\"font-size: 0.8em; font-weight: bold; line-height: 1; border-radius: 0.35em; text-transform: uppercase; vertical-align: middle; margin-left: 0.5rem\">ORG</span>\n",
       "</mark>\n",
       ", plasserer vi gjerne Høyre (H) og Fremskrittspartiet (FrP) på høyresiden.</div></span>"
      ],
      "text/plain": [
       "<IPython.core.display.HTML object>"
      ]
     },
     "metadata": {},
     "output_type": "display_data"
    },
    {
     "data": {
      "text/html": [
       "<span class=\"tex2jax_ignore\"><div class=\"entities\" style=\"line-height: 2.5; direction: ltr\">I det politiske sentrum, mellom høyre- og venstreblokkene, plasserer vi som regel \n",
       "<mark class=\"entity\" style=\"background: #ddd; padding: 0.45em 0.6em; margin: 0 0.25em; line-height: 1; border-radius: 0.35em;\">\n",
       "    Kristelig Folkeparti\n",
       "    <span style=\"font-size: 0.8em; font-weight: bold; line-height: 1; border-radius: 0.35em; text-transform: uppercase; vertical-align: middle; margin-left: 0.5rem\">POLITICAL PARTY</span>\n",
       "</mark>\n",
       " (KrF), Venstre (V) og Senterpartiet (Sp).</div></span>"
      ],
      "text/plain": [
       "<IPython.core.display.HTML object>"
      ]
     },
     "metadata": {},
     "output_type": "display_data"
    },
    {
     "data": {
      "text/html": [
       "<span class=\"tex2jax_ignore\"><div class=\"entities\" style=\"line-height: 2.5; direction: ltr\">Miljøpartiet de grønne (\n",
       "<mark class=\"entity\" style=\"background: #7aecec; padding: 0.45em 0.6em; margin: 0 0.25em; line-height: 1; border-radius: 0.35em;\">\n",
       "    MDG\n",
       "    <span style=\"font-size: 0.8em; font-weight: bold; line-height: 1; border-radius: 0.35em; text-transform: uppercase; vertical-align: middle; margin-left: 0.5rem\">ORG</span>\n",
       "</mark>\n",
       ") kaller seg «blokkuavhengig», og ønsker ikke å bli plassert i noen av «blokkene».</div></span>"
      ],
      "text/plain": [
       "<IPython.core.display.HTML object>"
      ]
     },
     "metadata": {},
     "output_type": "display_data"
    }
   ],
   "source": [
    "#Load the model from disk\n",
    "output_dir=('output')\n",
    "nlp = spacy.load(output_dir)\n",
    "#Visualize entities\n",
    "for line in test_text2:\n",
    "    doc2 = nlp(line)\n",
    "    for ent in doc2.ents:\n",
    "        spacy.displacy.render(doc2, style='ent')"
   ]
  },
  {
   "cell_type": "code",
   "execution_count": null,
   "id": "union-attention",
   "metadata": {},
   "outputs": [],
   "source": []
  }
 ],
 "metadata": {
  "kernelspec": {
   "display_name": "Python 3",
   "language": "python",
   "name": "python3"
  },
  "language_info": {
   "codemirror_mode": {
    "name": "ipython",
    "version": 3
   },
   "file_extension": ".py",
   "mimetype": "text/x-python",
   "name": "python",
   "nbconvert_exporter": "python",
   "pygments_lexer": "ipython3",
   "version": "3.8.5"
  }
 },
 "nbformat": 4,
 "nbformat_minor": 5
}
