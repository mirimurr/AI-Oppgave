{
 "cells": [
  {
   "cell_type": "code",
   "execution_count": 25,
   "id": "third-connecticut",
   "metadata": {},
   "outputs": [],
   "source": [
    "# Import requirements\n",
    "from __future__ import unicode_literals, print_function\n",
    "import spacy\n",
    "import plac\n",
    "from spacy.util import minibatch, compounding\n",
    "import random\n",
    "import pickle\n",
    "from pathlib import Path\n"
   ]
  },
  {
   "cell_type": "code",
   "execution_count": 26,
   "id": "cleared-silver",
   "metadata": {},
   "outputs": [],
   "source": [
    "# Import training data\n",
    "training_data = []\n",
    "file = open('training_data_all.jsonl', 'r', encoding='utf-8')\n",
    "for line in file.readlines():\n",
    "    line = line.rstrip('\\n \",')\n",
    "    line = eval(line) \n",
    "    training_data.append(line)"
   ]
  },
  {
   "cell_type": "code",
   "execution_count": 27,
   "id": "dangerous-maine",
   "metadata": {},
   "outputs": [],
   "source": [
    "# Test text\n",
    "test_text = 'Senterpartiet får en oppslutning på 22,1 prosent, opp 2,3 prosentpoeng fra november. '"
   ]
  },
  {
   "cell_type": "code",
   "execution_count": 29,
   "id": "broke-narrative",
   "metadata": {
    "scrolled": true
   },
   "outputs": [
    {
     "name": "stdout",
     "output_type": "stream",
     "text": [
      "Loaded model '<spacy.lang.nb.Norwegian object at 0x7f347b117af0>'\n",
      "Entities in 'Senterpartiet får en oppslutning på 22,1 prosent, opp 2,3 prosentpoeng fra november. '\n",
      "POLITICAL PARTY Senterpartiet\n",
      "Saved model to output\n",
      "Loading from output\n",
      "POLITICAL PARTY Senterpartiet\n"
     ]
    }
   ],
   "source": [
    "#Set output dir and determine number of iterations.\n",
    "output_dir=('output')\n",
    "n_iter=(40)\n",
    "\n",
    "# Load pre-existing spacy model.\n",
    "new_model_name = 'nb_core_news_sm_ner'\n",
    "nlp = spacy.load('nb_core_news_sm')\n",
    "model = nlp\n",
    "print(\"Loaded model '%s'\" % model)\n",
    "\n",
    "# Getting the pipeline component\n",
    "if 'ner' not in nlp.pipe_names:\n",
    "    ner = nlp.create_pipe('ner')\n",
    "    nlp.add_pipe(ner)\n",
    "else:\n",
    "    ner = nlp.get_pipe('ner')\n",
    "\n",
    "#Adding labels to the `ner`\n",
    "for _, annotations in training_data:\n",
    "    for ent in annotations.get(\"entities\"):\n",
    "        ner.add_label(ent[2])\n",
    "\n",
    "optimizer = nlp.entity.create_optimizer()\n",
    "other_pipes = [pipe for pipe in nlp.pipe_names if pipe != 'ner']\n",
    "\n",
    "with nlp.disable_pipes(*other_pipes):  # Disable pipeline components you dont need to change\n",
    "    for itn in range(n_iter): # TRAINING THE MODEL\n",
    "        random.shuffle(training_data)\n",
    "        losses = {}\n",
    "        batches = minibatch(training_data, size=compounding(4., 32., 1.001))\n",
    "        for batch in batches: # batch of texts, annotations, dropout - make it harder to memorise data\n",
    "            texts, annotations = zip(*batch)\n",
    "            nlp.update(texts, annotations, sgd=optimizer, drop=0.5, losses=losses)\n",
    "\n",
    "             \n",
    "\n",
    "    # Test the trained model\n",
    "    doc = nlp(test_text)\n",
    "    print(\"Entities in '%s'\" % test_text)\n",
    "    for ent in doc.ents:\n",
    "        print(ent.label_, ent.text)\n",
    "\n",
    "    # Save model \n",
    "    if output_dir is not None:\n",
    "        output_dir = Path(output_dir)\n",
    "        if not output_dir.exists():\n",
    "            output_dir.mkdir()\n",
    "        nlp.meta['name'] = new_model_name  # rename model\n",
    "        nlp.to_disk(output_dir)\n",
    "        print(\"Saved model to\", output_dir)\n",
    "\n",
    "        # Test the saved model\n",
    "        print(\"Loading from\", output_dir)\n",
    "        nlp2 = spacy.load(output_dir)\n",
    "        doc2 = nlp2(test_text)\n",
    "        for ent in doc2.ents:\n",
    "            print(ent.label_, ent.text)"
   ]
  }
 ],
 "metadata": {
  "kernelspec": {
   "display_name": "Python 3",
   "language": "python",
   "name": "python3"
  },
  "language_info": {
   "codemirror_mode": {
    "name": "ipython",
    "version": 3
   },
   "file_extension": ".py",
   "mimetype": "text/x-python",
   "name": "python",
   "nbconvert_exporter": "python",
   "pygments_lexer": "ipython3",
   "version": "3.8.5"
  }
 },
 "nbformat": 4,
 "nbformat_minor": 5
}
